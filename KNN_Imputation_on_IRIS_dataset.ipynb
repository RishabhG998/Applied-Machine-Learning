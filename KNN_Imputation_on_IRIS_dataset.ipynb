{
  "nbformat": 4,
  "nbformat_minor": 0,
  "metadata": {
    "colab": {
      "provenance": [],
      "authorship_tag": "ABX9TyOMJH4ZlH4JQfdOHzTgmdkW",
      "include_colab_link": true
    },
    "kernelspec": {
      "name": "python3",
      "display_name": "Python 3"
    },
    "language_info": {
      "name": "python"
    }
  },
  "cells": [
    {
      "cell_type": "markdown",
      "metadata": {
        "id": "view-in-github",
        "colab_type": "text"
      },
      "source": [
        "<a href=\"https://colab.research.google.com/github/RishabhG998/Applied-Machine-Learning/blob/main/KNN_Imputation_on_IRIS_dataset.ipynb\" target=\"_parent\"><img src=\"https://colab.research.google.com/assets/colab-badge.svg\" alt=\"Open In Colab\"/></a>"
      ]
    },
    {
      "cell_type": "code",
      "execution_count": 1,
      "metadata": {
        "id": "Hq3NvibPznIL"
      },
      "outputs": [],
      "source": [
        "import pandas as pd\n",
        "from sklearn.impute import KNNImputer\n",
        "from sklearn.datasets import load_iris\n",
        "from sklearn.metrics import mean_absolute_error"
      ]
    },
    {
      "cell_type": "code",
      "source": [
        "# Load the Iris dataset\n",
        "data = load_iris()\n",
        "X = data.data  # Features\n",
        "y = data.target  # Target (in this case, species labels)"
      ],
      "metadata": {
        "id": "xCwGslyozo8H"
      },
      "execution_count": 2,
      "outputs": []
    },
    {
      "cell_type": "code",
      "source": [
        "# Introduce missing values in the dataset (replace some values with NaN)\n",
        "import numpy as np\n",
        "np.random.seed(0)\n",
        "X_with_missing = X.copy()\n",
        "\n",
        "missing_fraction = 0.1  # 10% of missing values\n",
        "\n",
        "missing_mask = np.random.rand(*X.shape) < missing_fraction\n",
        "# 'np.random.rand(*X.shape)' generates an array of random numbers with the same shape as the array X\n",
        "# '< missing_fraction' part compares each of the random values generated in step 1 to the missing_fraction value\n",
        "\n",
        "X_with_missing[missing_mask] = np.nan"
      ],
      "metadata": {
        "id": "UEotLe8kzrgh"
      },
      "execution_count": 3,
      "outputs": []
    },
    {
      "cell_type": "code",
      "source": [
        "# Displaying intermediate results\n",
        "np.random.rand(*X.shape)[:10]"
      ],
      "metadata": {
        "colab": {
          "base_uri": "https://localhost:8080/"
        },
        "id": "vx0FaURl0xBe",
        "outputId": "1ee24310-23c9-4a95-d474-e7fd3fe41ee8"
      },
      "execution_count": 4,
      "outputs": [
        {
          "output_type": "execute_result",
          "data": {
            "text/plain": [
              "array([[0.17465839, 0.327988  , 0.68034867, 0.06320762],\n",
              "       [0.60724937, 0.4776465 , 0.28399998, 0.23841328],\n",
              "       [0.51451274, 0.36792758, 0.45651989, 0.33747738],\n",
              "       [0.97049369, 0.13343943, 0.09680395, 0.34339173],\n",
              "       [0.5910269 , 0.65917647, 0.39725675, 0.99927799],\n",
              "       [0.351893  , 0.72140667, 0.63758269, 0.81305386],\n",
              "       [0.97622566, 0.88979366, 0.76456197, 0.69824848],\n",
              "       [0.33549817, 0.14768558, 0.062636  , 0.2419017 ],\n",
              "       [0.43228148, 0.52199627, 0.77308355, 0.95874092],\n",
              "       [0.11732048, 0.10700414, 0.58969472, 0.74539807]])"
            ]
          },
          "metadata": {},
          "execution_count": 4
        }
      ]
    },
    {
      "cell_type": "code",
      "source": [
        "# Displaying intermediate results\n",
        "(np.random.rand(*X.shape) < missing_fraction)[:10]"
      ],
      "metadata": {
        "colab": {
          "base_uri": "https://localhost:8080/"
        },
        "id": "DckY7eQY03Dp",
        "outputId": "a02459da-5b35-499e-8bca-24381df8d2c3"
      },
      "execution_count": 5,
      "outputs": [
        {
          "output_type": "execute_result",
          "data": {
            "text/plain": [
              "array([[False, False, False, False],\n",
              "       [False, False, False, False],\n",
              "       [ True, False,  True, False],\n",
              "       [False,  True, False, False],\n",
              "       [False, False, False, False],\n",
              "       [False, False, False, False],\n",
              "       [False, False, False, False],\n",
              "       [False, False, False, False],\n",
              "       [False, False,  True, False],\n",
              "       [False, False,  True,  True]])"
            ]
          },
          "metadata": {},
          "execution_count": 5
        }
      ]
    },
    {
      "cell_type": "code",
      "source": [
        "# Displaying intermediate results\n",
        "X_with_missing[:10]"
      ],
      "metadata": {
        "colab": {
          "base_uri": "https://localhost:8080/"
        },
        "id": "w3AgjGiOz5Va",
        "outputId": "5831a954-138f-44b0-ae5f-fb68139005ca"
      },
      "execution_count": 6,
      "outputs": [
        {
          "output_type": "execute_result",
          "data": {
            "text/plain": [
              "array([[5.1, 3.5, 1.4, 0.2],\n",
              "       [4.9, 3. , 1.4, 0.2],\n",
              "       [4.7, 3.2, 1.3, 0.2],\n",
              "       [4.6, 3.1, nan, nan],\n",
              "       [nan, 3.6, 1.4, 0.2],\n",
              "       [5.4, 3.9, 1.7, 0.4],\n",
              "       [4.6, 3.4, 1.4, 0.3],\n",
              "       [5. , 3.4, 1.5, 0.2],\n",
              "       [4.4, 2.9, nan, 0.2],\n",
              "       [4.9, 3.1, 1.5, 0.1]])"
            ]
          },
          "metadata": {},
          "execution_count": 6
        }
      ]
    },
    {
      "cell_type": "code",
      "source": [
        "# Initialize the KNN imputer\n",
        "knn_imputer = KNNImputer(n_neighbors=5)"
      ],
      "metadata": {
        "id": "SAA2ghEgz5lB"
      },
      "execution_count": 7,
      "outputs": []
    },
    {
      "cell_type": "code",
      "source": [
        "# Perform KNN imputation on the dataset\n",
        "X_imputed = knn_imputer.fit_transform(X_with_missing)"
      ],
      "metadata": {
        "id": "Gw-dxCLq1Vk1"
      },
      "execution_count": 8,
      "outputs": []
    },
    {
      "cell_type": "code",
      "source": [
        "# Create a DataFrame to visualize the results\n",
        "df = pd.DataFrame(X_imputed, columns=data.feature_names)"
      ],
      "metadata": {
        "id": "tthzRdcT1Xtm"
      },
      "execution_count": 9,
      "outputs": []
    },
    {
      "cell_type": "code",
      "source": [
        "# Check the DataFrame with imputed values\n",
        "print(df.head(10))"
      ],
      "metadata": {
        "colab": {
          "base_uri": "https://localhost:8080/"
        },
        "id": "gympNM6d1Zf7",
        "outputId": "9c95aa45-5e5e-4406-937d-a4026c7f181e"
      },
      "execution_count": 10,
      "outputs": [
        {
          "output_type": "stream",
          "name": "stdout",
          "text": [
            "   sepal length (cm)  sepal width (cm)  petal length (cm)  petal width (cm)\n",
            "0               5.10               3.5               1.40               0.2\n",
            "1               4.90               3.0               1.40               0.2\n",
            "2               4.70               3.2               1.30               0.2\n",
            "3               4.60               3.1               3.94               1.4\n",
            "4               5.12               3.6               1.40               0.2\n",
            "5               5.40               3.9               1.70               0.4\n",
            "6               4.60               3.4               1.40               0.3\n",
            "7               5.00               3.4               1.50               0.2\n",
            "8               4.40               2.9               1.28               0.2\n",
            "9               4.90               3.1               1.50               0.1\n"
          ]
        }
      ]
    },
    {
      "cell_type": "code",
      "source": [
        "print(data.data[:10])"
      ],
      "metadata": {
        "colab": {
          "base_uri": "https://localhost:8080/"
        },
        "id": "8ZITPbX11bA8",
        "outputId": "e543554a-25fb-445d-be62-94c0f8365855"
      },
      "execution_count": 11,
      "outputs": [
        {
          "output_type": "stream",
          "name": "stdout",
          "text": [
            "[[5.1 3.5 1.4 0.2]\n",
            " [4.9 3.  1.4 0.2]\n",
            " [4.7 3.2 1.3 0.2]\n",
            " [4.6 3.1 1.5 0.2]\n",
            " [5.  3.6 1.4 0.2]\n",
            " [5.4 3.9 1.7 0.4]\n",
            " [4.6 3.4 1.4 0.3]\n",
            " [5.  3.4 1.5 0.2]\n",
            " [4.4 2.9 1.4 0.2]\n",
            " [4.9 3.1 1.5 0.1]]\n"
          ]
        }
      ]
    },
    {
      "cell_type": "code",
      "source": [
        "# Calculate the Mean Absolute Error between original and imputed data\n",
        "mae = mean_absolute_error(data.data, X_imputed)\n",
        "\n",
        "print(f\"Mean Absolute Error between original and KNN-imputed data: {mae}\")"
      ],
      "metadata": {
        "colab": {
          "base_uri": "https://localhost:8080/"
        },
        "id": "qCqzj1mp1ggz",
        "outputId": "92cd94ea-d5af-4560-c2ff-f38f90953565"
      },
      "execution_count": 12,
      "outputs": [
        {
          "output_type": "stream",
          "name": "stdout",
          "text": [
            "Mean Absolute Error between original and KNN-imputed data: 0.029400000000000003\n"
          ]
        }
      ]
    },
    {
      "cell_type": "code",
      "source": [],
      "metadata": {
        "id": "RSoDwrnBSoTy"
      },
      "execution_count": 12,
      "outputs": []
    }
  ]
}